{
 "cells": [
  {
   "cell_type": "code",
   "execution_count": 1,
   "metadata": {},
   "outputs": [],
   "source": [
    "import os\n",
    "from gensim.models import doc2vec\n",
    "from gensim.models.doc2vec import TaggedDocument\n",
    "import pandas as pd\n",
    "import jpype\n",
    "from konlpy.tag import Kkma\n",
    "from hanspell import spell_checker\n",
    "from pykospacing import spacing"
   ]
  },
  {
   "cell_type": "code",
   "execution_count": 2,
   "metadata": {
    "scrolled": true
   },
   "outputs": [
    {
     "name": "stdout",
     "output_type": "stream",
     "text": [
      "0             12시 땡!\n",
      "1        1지망 학교 떨어졌어\n",
      "2       3박4일 놀러가고 싶다\n",
      "3    3박4일 정도 놀러가고 싶다\n",
      "4            PPL 심하네\n",
      "Name: Q, dtype: object 0     하루가 또 가네요.\n",
      "1      위로해 드립니다.\n",
      "2    여행은 언제나 좋죠.\n",
      "3    여행은 언제나 좋죠.\n",
      "4     눈살이 찌푸려지죠.\n",
      "Name: A, dtype: object\n",
      "<class 'pandas.core.frame.DataFrame'>\n",
      "RangeIndex: 11824 entries, 0 to 11823\n",
      "Data columns (total 3 columns):\n",
      " #   Column  Non-Null Count  Dtype \n",
      "---  ------  --------------  ----- \n",
      " 0   Q       11824 non-null  object\n",
      " 1   A       11824 non-null  object\n",
      " 2   label   11824 non-null  int64 \n",
      "dtypes: int64(1), object(2)\n",
      "memory usage: 277.2+ KB\n"
     ]
    }
   ],
   "source": [
    "# 파일 불러오기\n",
    "df = pd.read_csv('ChatbotData.csv')\n",
    "df_Q=df['Q']\n",
    "df_A=df['A']\n",
    "print(df_Q.head(),df_A.head())\n",
    "df.info()"
   ]
  },
  {
   "cell_type": "code",
   "execution_count": 3,
   "metadata": {},
   "outputs": [
    {
     "data": {
      "text/plain": [
       "[['1', '12시 땡!', '하루가 또 가네요.'],\n",
       " ['2', '1지망 학교 떨어졌어', '위로해 드립니다.'],\n",
       " ['3', '3박4일 놀러가고 싶다', '여행은 언제나 좋죠.'],\n",
       " ['4', '3박4일 정도 놀러가고 싶다', '여행은 언제나 좋죠.'],\n",
       " ['5', 'PPL 심하네', '눈살이 찌푸려지죠.'],\n",
       " ['6', 'SD카드 망가졌어', '다시 새로 사는 게 마음 편해요.'],\n",
       " ['7', 'SD카드 안돼', '다시 새로 사는 게 마음 편해요.'],\n",
       " ['8', 'SNS 맞팔 왜 안하지ㅠㅠ', '잘 모르고 있을 수도 있어요.'],\n",
       " ['9', 'SNS 시간낭비인 거 아는데 매일 하는 중', '시간을 정하고 해보세요.'],\n",
       " ['10', 'SNS 시간낭비인데 자꾸 보게됨', '시간을 정하고 해보세요.']]"
      ]
     },
     "execution_count": 3,
     "metadata": {},
     "output_type": "execute_result"
    }
   ],
   "source": [
    "# Series -> list\n",
    "list_Q_A=[]\n",
    "\n",
    "for i in range(len(df_Q)):\n",
    "    temp=[]\n",
    "    temp.append(str(i+1))\n",
    "    temp.append(df_Q.iloc[i])\n",
    "    temp.append(df_A.iloc[i])\n",
    "    \n",
    "    list_Q_A.append(temp)\n",
    "list_Q_A[:10]"
   ]
  },
  {
   "cell_type": "code",
   "execution_count": 4,
   "metadata": {},
   "outputs": [],
   "source": [
    "# 형태소 분석\n",
    "kkma = Kkma()\n",
    "filter_kkma = ['NNG', 'NNP','OL','VA','VV','VXV']\n",
    "\n",
    "def tokenizer_kkma(doc):\n",
    "    # 꼬꼬마 형태소 분석기가 자바 기반이어서 파이썬에서 자바함수들을 실행할 수 있는 명령어 (jpype) 를 써줘야한다.\n",
    "    jpype.attachThreadToJVM()       \n",
    "    token_doc = [\"/\".join(word) for word in kkma.pos(doc)]\n",
    "    return token_doc\n",
    "\n",
    "def tokenize_kkma_noun_verb(doc):\n",
    "    jpype.attachThreadToJVM()\n",
    "    token_doc = [\"/\".join(word) for word in kkma.pos(doc) if word[1] in filter_kkma]\n",
    "    return token_doc"
   ]
  },
  {
   "cell_type": "code",
   "execution_count": 5,
   "metadata": {},
   "outputs": [
    {
     "name": "stderr",
     "output_type": "stream",
     "text": [
      "c:\\users\\dongho\\appdata\\local\\programs\\python\\python37\\lib\\site-packages\\ipykernel_launcher.py:7: DeprecationWarning: jpype._core.attachThreadToJVM is deprecated, use java.lang.Thread.attach instead\n",
      "  import sys\n"
     ]
    }
   ],
   "source": [
    "token_Q_A = [(tokenizer_kkma(row[1]), row[0]) for row in list_Q_A]\n",
    "tagged_Q_A = [TaggedDocument(d,[c]) for d,c in token_Q_A]"
   ]
  },
  {
   "cell_type": "code",
   "execution_count": 6,
   "metadata": {},
   "outputs": [
    {
     "name": "stdout",
     "output_type": "stream",
     "text": [
      "0\n",
      "1\n",
      "2\n",
      "3\n"
     ]
    }
   ],
   "source": [
    "# 모델 만들기\n",
    "# cpu 몇 개 쓸 건지\n",
    "import multiprocessing\n",
    "# 내 컴에 있는 cpu 갯수 cores 에 저장\n",
    "cores = multiprocessing.cpu_count()\n",
    "# vector_size : 임베딩할 벡터 차원\n",
    "# negaive : negative sampling\n",
    "d2v_Q_A = doc2vec.Doc2Vec(\n",
    "    vector_size = 100,\n",
    "    alpha = 0.025,\n",
    "    min_alpha = 0.025,\n",
    "    hs = 1,\n",
    "    negative = 0,\n",
    "    dm = 0,\n",
    "    dbow_words = 1,\n",
    "    min_count = 1,\n",
    "    workers = cores,\n",
    "    seed = 0\n",
    ")\n",
    "\n",
    "# 단어 사전 만들기\n",
    "d2v_Q_A.build_vocab(tagged_Q_A)\n",
    "for epoch in range(4):\n",
    "  # 모델 학습\n",
    "  print(epoch)\n",
    "  d2v_Q_A.train(tagged_Q_A,\n",
    "                 total_examples = d2v_Q_A.corpus_count,\n",
    "                 epochs = d2v_Q_A.epochs)\n",
    "  d2v_Q_A.alpha -=0.0025\n",
    "  d2v_Q_A.min_alpha = d2v_Q_A.min_alpha"
   ]
  },
  {
   "cell_type": "code",
   "execution_count": 7,
   "metadata": {},
   "outputs": [],
   "source": [
    "def doc2_answer(input_question): #질문 입력시 doc2으로 답변함\n",
    "  token_test = tokenizer_kkma(input_question)\n",
    "  predict_vector = d2v_Q_A.infer_vector(token_test)\n",
    "  result = d2v_Q_A.docvecs.most_similar([predict_vector],topn=1)\n",
    "  return list_Q_A[int(result[0][0])-1][2]"
   ]
  },
  {
   "cell_type": "code",
   "execution_count": 8,
   "metadata": {},
   "outputs": [
    {
     "name": "stdout",
     "output_type": "stream",
     "text": [
      "뭘해도 안되는 놈인가..\n",
      "사고의 확대와 축소\n"
     ]
    }
   ],
   "source": [
    "input_question = input()\n",
    "\n",
    "dm=doc2_answer(input_question)\n",
    "print(dm)"
   ]
  },
  {
   "cell_type": "code",
   "execution_count": null,
   "metadata": {},
   "outputs": [],
   "source": []
  }
 ],
 "metadata": {
  "kernelspec": {
   "display_name": "Python 3",
   "language": "python",
   "name": "python3"
  },
  "language_info": {
   "codemirror_mode": {
    "name": "ipython",
    "version": 3
   },
   "file_extension": ".py",
   "mimetype": "text/x-python",
   "name": "python",
   "nbconvert_exporter": "python",
   "pygments_lexer": "ipython3",
   "version": "3.7.6"
  }
 },
 "nbformat": 4,
 "nbformat_minor": 4
}
