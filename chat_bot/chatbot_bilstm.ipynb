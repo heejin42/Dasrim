{
 "cells": [
  {
   "cell_type": "markdown",
   "metadata": {},
   "source": [
    "# import 패키지"
   ]
  },
  {
   "cell_type": "code",
   "execution_count": 1,
   "metadata": {},
   "outputs": [],
   "source": [
    "from konlpy.tag import Okt\n",
    "from keras import models\n",
    "from keras import preprocessing\n",
    "\n",
    "import numpy as np\n",
    "import pandas as pd\n",
    "import re\n",
    "import os\n",
    "import time"
   ]
  },
  {
   "cell_type": "code",
   "execution_count": 2,
   "metadata": {},
   "outputs": [],
   "source": [
    "# 경로 이동\n",
    "os.chdir(r'./\\ICT해커톤\\챗봇\\데이터')"
   ]
  },
  {
   "cell_type": "code",
   "execution_count": 3,
   "metadata": {},
   "outputs": [],
   "source": [
    "# 사전 정의\n",
    "PAD = \"<PADDING>\"\n",
    "PAD_INDEX = 0\n",
    "OOV = \"<OOV>\"\n",
    "OOV_INDEX = 1\n",
    "user_name='defalut값'\n",
    "\n",
    "okt= Okt()\n",
    "talk= True\n",
    "index=0\n",
    "data = {'bot_q':[],'user_a':[]}\n",
    "bot_a = ''\n",
    "bot_s = ''\n",
    "bot_a_list = {'고정':['나를 상징하는 것을 저렇게 표현하신 이유가 무엇인가요?\\n',\n",
    "                    '왜 그런 생각이 드셨는지 설명해 주실 수 있나요?\\n',\n",
    "                    f'최근에 {user_name}님이 본인을 그렇게 느낄만한 일들이 있었나요?\\n',\n",
    "                    '그런 상황에서 스쳐지나간 생각이 있으신가요?\\n',\n",
    "                    '주변 사람이 이런 생각을 가지고 있다면 뭐라고 말을 해주겠어요?\\n',\n",
    "                    '그렇지만 본인에 대해 지금까지 알아가는 시간이 부족했던거 같아요 어떻게 생각하시나요?\\n',\n",
    "                    '그래도 오늘 이렇게 이야기를 나누면서 기분이 좀 풀리셨나요?, 앞으로도 제가 도와드릴께요 함께해요!'],\n",
    "              '시작':['안녕하세요 엘리🐘에요! 저와 함께 얘기를 나누어 봐요!','혹시라도 중간에 멈추고 싶으시면 끝내기라고 입력해주세요!'],\n",
    "         '안되다':'많이 정신 없으셨나봐요 😥',\n",
    "         '공감':f'맞아요 제 생각도 그래요. {user_name}님은 충분히 노력하셨어요.',\n",
    "             '종료':'\\n종료합니다',\n",
    "             '마무리':'그래도 오늘 이렇게 이야기를 나누면서 기분이 좀 풀리셨나요? \\n앞으로도 제가 도와드릴께요 함께해요!'}\n",
    "bot_a_emotion={'행복':'와 너무 행복하셨겠어요!! 기쁨은 나누면 배가 된데요!! 제가 제곱으로 늘려드릴께요!!!',\n",
    "              '분노':'대따대따 화나셨겠다.. 어떻게 참으셨어요 대단해요!👍',\n",
    "              '중립':'아.. 그러셨구나 충분히 그럴 수 있죠!',\n",
    "              '슬픔':'마음아프시겠어요 ..😢 슬픔은 나누면 나눠진다고 했어요..!'}\n",
    "\n"
   ]
  },
  {
   "cell_type": "markdown",
   "metadata": {},
   "source": [
    "# BiLSTM"
   ]
  },
  {
   "cell_type": "code",
   "execution_count": 4,
   "metadata": {},
   "outputs": [],
   "source": [
    "# 형태소분석 함수\n",
    "def pos_tag(sentences):\n",
    "    \n",
    "    # KoNLPy 형태소분석기 설정\n",
    "    tagger = Okt()\n",
    "    \n",
    "    # 문장 품사 변수 초기화\n",
    "    sentences_pos = []\n",
    "    \n",
    "    # 인풋이 리스트면\n",
    "    if isinstance(sentences,list):\n",
    "    # 모든 문장 반복\n",
    "        for sentence in sentences:\n",
    "            # [\\\"':;~()] 특수기호 제거\n",
    "            sentence = re.sub(\"[ㄱ-ㅎㅏ-ㅣ-=+,#/\\?:^$.@*\\\"※~&%ㆍ!』\\\\‘|\\(\\)\\[\\]\\<\\>`\\'…》]\", \" \", sentence)\n",
    "            \n",
    "            \n",
    "            # 배열인 형태소분석의 출력을 띄어쓰기로 구분하여 붙임\n",
    "            sentence = \" \".join(tagger.morphs(sentence))\n",
    "            sentences_pos.append(sentence)\n",
    "            \n",
    "    # str이면        \n",
    "    elif isinstance(sentences, str):\n",
    "        sentences=re.sub(\"[ㄱ-ㅎㅏ-ㅣ-=+,#/\\?:^$.@*\\\"※~&%ㆍ!』\\\\‘|\\(\\)\\[\\]\\<\\>`\\'…》]\", \" \", sentences)\n",
    "        sentences_pos= \" \".join(tagger.morphs(sentences))\n",
    "        \n",
    "    return sentences_pos"
   ]
  },
  {
   "cell_type": "code",
   "execution_count": 5,
   "metadata": {},
   "outputs": [],
   "source": [
    "def convert_text_to_index_for_classification(sentences, vocabulary): \n",
    "    sentences_index = []\n",
    "    if isinstance(sentences,list):\n",
    "        # 모든 문장에 대해서 반복\n",
    "        for sentence in sentences:\n",
    "            sentence_index = []\n",
    "\n",
    "            # 문장의 단어들을 띄어쓰기로 분리\n",
    "            for word in sentence.split():\n",
    "                if vocabulary.get(word) is not None:\n",
    "                    # 사전에 있는 단어면 해당 인덱스를 추가\n",
    "                    sentence_index.extend([vocabulary[word]])\n",
    "                else:\n",
    "                    # 사전에 없는 단어면 OOV 인덱스를 추가\n",
    "                    sentence_index.extend([vocabulary[OOV]])\n",
    "\n",
    "            if len(sentence_index) > max_sequences:\n",
    "                sentence_index = sentence_index[:max_sequences]\n",
    "\n",
    "            # 최대 길이에 없는 공간은 패딩 인덱스로 채움\n",
    "            sentence_index += (max_sequences - len(sentence_index)) * [vocabulary[PAD]]\n",
    "\n",
    "            # 문장의 인덱스 배열을 추가\n",
    "            sentences_index.append(sentence_index)\n",
    "    elif isinstance(sentences, str):\n",
    "        sentence_index = []\n",
    "        for word in sentences.split():\n",
    "            if vocabulary.get(word) is not None:\n",
    "                # 사전에 있는 단어면 해당 인덱스를 추가\n",
    "                sentence_index.extend([vocabulary[word]])\n",
    "            else:\n",
    "                # 사전에 없는 단어면 OOV 인덱스를 추가\n",
    "                sentence_index.extend([vocabulary[OOV]])\n",
    "\n",
    "        if len(sentence_index) > max_sequences:\n",
    "            sentence_index = sentence_index[:max_sequences]\n",
    "\n",
    "        # 최대 길이에 없는 공간은 패딩 인덱스로 채움\n",
    "        sentence_index += (max_sequences - len(sentence_index)) * [vocabulary[PAD]]\n",
    "\n",
    "        sentences_index.append(sentence_index)\n",
    "    return sentences_index"
   ]
  },
  {
   "cell_type": "code",
   "execution_count": 6,
   "metadata": {},
   "outputs": [
    {
     "name": "stdout",
     "output_type": "stream",
     "text": [
      "                      Sentence Emotion\n",
      "0  서해 수자원도 한류라서 그동안 불법조업 방치했나?      분노\n",
      "1                     니가 인간이가.      분노\n",
      "2    강아지를 때리고 유기하는것만 학대는 아닙니다!      분노\n",
      "3        하여간 우리나라 교육엔 미래가 없어!!      분노\n",
      "4     채널에이 군부 개인거 인증하냐 동아일보야!!      분노\n"
     ]
    }
   ],
   "source": [
    "# 파일 불러오기\n",
    "df_main = pd.read_csv('sentences.csv',encoding='utf-8')\n",
    "print(df_main.head())\n",
    "a=df_main['Emotion'].unique()\n",
    "category =list(a)\n",
    "CATEGORY = len(category)\n",
    "\n",
    "# 분노 0,슬픔 1, 중립 2, 행복 3,\n",
    "# 카테고리 인덱스\n",
    "\n",
    "category_to_index = {word: index for index, word in enumerate(category)}\n",
    "\n",
    "index_to_category = {index: word for index, word in enumerate(category)}\n"
   ]
  },
  {
   "cell_type": "code",
   "execution_count": 7,
   "metadata": {},
   "outputs": [],
   "source": [
    "words = []\n",
    "ori_sentence =[]\n",
    "# 데이터 프레임 list화\n",
    "for i in range(len(df_main)):\n",
    "    tmp =[]\n",
    "    tmp.append(str(i+1))\n",
    "    tmp.append(df_main.iloc[i].Sentence)\n",
    "    tmp.append(df_main.iloc[i].Emotion)\n",
    "    ori_sentence.append(tmp)\n",
    "    \n",
    "# 문장 형태소 분석 및 전처리\n",
    "sente=[]\n",
    "for i in ori_sentence:\n",
    "    sente.append(i[1])\n",
    "\n",
    "senten = pos_tag(sente)\n",
    "\n",
    "# 단어들의 배열 생성\n",
    "for sentence in senten:\n",
    "    for word in sentence.split():\n",
    "        words.append(word)\n",
    "\n",
    "# 길이가 0인 단어는 삭제\n",
    "words = [word for word in words if len(word) > 0]\n",
    "\n",
    "# 중복된 단어 삭제\n",
    "words = list(set(words))\n",
    "\n",
    "# 제일 앞에 태그 단어 삽입\n",
    "words[:0] = [PAD, OOV]\n",
    "\n",
    "VOCAB_SIZE = len(words)\n",
    "# print(VOCAB_SIZE)"
   ]
  },
  {
   "cell_type": "code",
   "execution_count": 8,
   "metadata": {},
   "outputs": [],
   "source": [
    "# 문장 길이 확인\n",
    "max_length = max(len(l) for l in senten)\n",
    "avg_length = sum(map(len, senten))/len(senten)\n",
    "# print('리뷰의 최대 길이 : {}'.format(max_length))\n",
    "# print('리뷰의 평균 길이 : {}'.format(avg_length))\n",
    "max_sequences= int(avg_length) + 15"
   ]
  },
  {
   "cell_type": "code",
   "execution_count": 9,
   "metadata": {},
   "outputs": [],
   "source": [
    "# 단어와 인덱스의 딕셔너리 생성\n",
    "word_to_index = {word: index for index, word in enumerate(words)}\n",
    "index_to_word = {index: word for index, word in enumerate(words)}"
   ]
  },
  {
   "cell_type": "code",
   "execution_count": 10,
   "metadata": {},
   "outputs": [],
   "source": [
    "# 모델 불러오기\n",
    "load_c_model = models.load_model('main_lstm_cl.h5')"
   ]
  },
  {
   "cell_type": "code",
   "execution_count": 11,
   "metadata": {},
   "outputs": [],
   "source": [
    "def predict_emotion(text):\n",
    "    pre_text = pos_tag(text)\n",
    "    pre_x=convert_text_to_index_for_classification(pre_text, word_to_index)\n",
    "    result=np.argmax(load_c_model.predict(np.asarray(pre_x).reshape(1,max_sequences)))\n",
    "    return index_to_category[result]"
   ]
  },
  {
   "cell_type": "markdown",
   "metadata": {},
   "source": [
    "# Chatbot_elly"
   ]
  },
  {
   "cell_type": "code",
   "execution_count": 20,
   "metadata": {},
   "outputs": [],
   "source": [
    "def generate_Q(user_a, idx):\n",
    "    print('\\n - - - - - - \\n')\n",
    "    # 챗봇 질문\n",
    "    bot_a=bot_a_list['고정'][idx]\n",
    "\n",
    "    # 대화 내용 저장\n",
    "    data['bot_q'].append(bot_a)\n",
    "    data['user_a'].append(user_a)\n",
    "\n",
    "    if idx == 2:\n",
    "        # 유저 대답 감정 분석 후 맞는 질문 저장\n",
    "        user_emotion = predict_emotion(user_a)\n",
    "        bot_react=bot_a_emotion[user_emotion]\n",
    "    elif idx == 4:\n",
    "        bot_react=bot_a_list['공감']\n",
    "    else :\n",
    "        bot_react=''\n",
    "            \n",
    "        \n",
    "    return bot_a, bot_react\n",
    "    # 유저 질문 변수 초기화 질문 인덱스 값 증가 및 3초 지연\n",
    "    "
   ]
  },
  {
   "cell_type": "code",
   "execution_count": 23,
   "metadata": {
    "scrolled": true
   },
   "outputs": [
    {
     "name": "stdout",
     "output_type": "stream",
     "text": [
      "안녕하세요 엘리🐘에요! 저와 함께 얘기를 나누어 봐요!\n",
      "혹시라도 중간에 멈추고 싶으시면 끝내기라고 입력해주세요!\n",
      "- - - -\n",
      "나를 상징하는 것을 저렇게 표현하신 이유가 무엇인가요?\n",
      "\n",
      "활화산처럼 불이 붙었었지만 지금은 그렇지 않고 꺼져버린 것 같다.\n",
      "\n",
      " - - - - - - \n",
      "\n",
      "왜 그런 생각이 드셨는지 설명해 주실 수 있나요?\n",
      "\n",
      "지금은 뭔가 차가워졌고 쉬어야 할 것 같은 기분이라 그랬습니다.\n",
      "\n",
      " - - - - - - \n",
      "\n",
      "아.. 그러셨구나 충분히 그럴 수 있죠!\n",
      "최근에 defalut값님이 본인을 그렇게 느낄만한 일들이 있었나요?\n",
      "\n",
      "날씨가 추워져서 수족냉증이 심해져서 몸 컨디션이 안좋아 졌어요. \n",
      "\n",
      " - - - - - - \n",
      "\n",
      "그런 상황에서 스쳐지나간 생각이 있으신가요?\n",
      "\n",
      "따뜻한 곳에 가서 쉬고싶다.\n",
      "\n",
      " - - - - - - \n",
      "\n",
      "맞아요 제 생각도 그래요. defalut값님은 충분히 노력하셨어요.\n",
      "주변 사람이 이런 생각을 가지고 있다면 뭐라고 말을 해주겠어요?\n",
      "\n",
      "어서 들어가 쉬어.. 쉬면서 해야지..\n",
      "\n",
      " - - - - - - \n",
      "\n",
      "그렇지만 본인에 대해 지금까지 알아가는 시간이 부족했던거 같아요 어떻게 생각하시나요?\n",
      "\n",
      "맞아요...\n",
      "\n",
      " - - - - - - \n",
      "\n",
      "그래도 오늘 이렇게 이야기를 나누면서 기분이 좀 풀리셨나요?, 앞으로도 제가 도와드릴께요 함께해요!\n",
      "네 고마워요\n",
      "그래도 오늘 이렇게 이야기를 나누면서 기분이 좀 풀리셨나요? \n",
      "앞으로도 제가 도와드릴께요 함께해요!\n"
     ]
    }
   ],
   "source": [
    "# 끝내기 전까지 반복\n",
    "for i in range(len(bot_a_list['고정'])+1):\n",
    "    if i==0:\n",
    "        # 초반 멘트\n",
    "        for ment in bot_a_list['시작']:\n",
    "            print(ment)\n",
    "            \n",
    "        print('- - - -')\n",
    "        print(bot_a_list['고정'][0])\n",
    "        continue\n",
    "    user=input()\n",
    "    # 유저가 원하면 종료\n",
    "    if user == '끝내기':\n",
    "        print(bot_a_list['종료'])\n",
    "        break\n",
    "    elif i < len(bot_a_list['고정']):\n",
    "        bot_q, bot_re=generate_Q(user,i)\n",
    "        if bot_re != '':\n",
    "            print(bot_re)\n",
    "        print(bot_q)\n",
    "    else :\n",
    "        print(bot_a_list['마무리'])\n",
    "    time.sleep(3)\n",
    "    \n",
    "# data.items()"
   ]
  },
  {
   "cell_type": "code",
   "execution_count": null,
   "metadata": {},
   "outputs": [],
   "source": []
  }
 ],
 "metadata": {
  "kernelspec": {
   "display_name": "Python 3",
   "language": "python",
   "name": "python3"
  },
  "language_info": {
   "codemirror_mode": {
    "name": "ipython",
    "version": 3
   },
   "file_extension": ".py",
   "mimetype": "text/x-python",
   "name": "python",
   "nbconvert_exporter": "python",
   "pygments_lexer": "ipython3",
   "version": "3.7.6"
  }
 },
 "nbformat": 4,
 "nbformat_minor": 4
}
