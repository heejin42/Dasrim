{
 "cells": [
  {
   "cell_type": "code",
   "execution_count": 1,
   "metadata": {},
   "outputs": [],
   "source": [
    "from keras import models\n",
    "from keras import layers\n",
    "from keras import optimizers, losses, metrics\n",
    "from keras import preprocessing\n",
    "\n",
    "import tensorflow as tf\n",
    "import numpy as np\n",
    "import pandas as pd\n",
    "import matplotlib.pyplot as plt\n",
    "import re\n",
    "import os\n",
    "\n",
    "from konlpy.tag import Okt\n",
    "\n",
    "import matplotlib.pyplot as plt"
   ]
  },
  {
   "cell_type": "code",
   "execution_count": 2,
   "metadata": {},
   "outputs": [],
   "source": [
    "# 경로 이동\n",
    "os.chdir(r'./\\ICT해커톤\\챗봇\\데이터')"
   ]
  },
  {
   "cell_type": "code",
   "execution_count": 3,
   "metadata": {},
   "outputs": [],
   "source": [
    "# 사전 정의\n",
    "\n",
    "PAD = \"<PADDING>\"\n",
    "PAD_INDEX = 0\n",
    "OOV = \"<OOV>\"\n",
    "OOV_INDEX = 1\n",
    "\n",
    "VOCAB_SIZE = 0 # 후에 len(words) 로 바뀜.\n",
    "CATEGORY = 0 # 후에 category 갯수만큼 바꿈\n",
    "# 한 문장에서 단어 시퀀스의 최대 개수\n",
    "max_sequences = 30\n",
    "\n"
   ]
  },
  {
   "cell_type": "code",
   "execution_count": 4,
   "metadata": {},
   "outputs": [],
   "source": [
    "# 형태소분석 함수\n",
    "def pos_tag(sentences):\n",
    "    \n",
    "    # KoNLPy 형태소분석기 설정\n",
    "    tagger = Okt()\n",
    "    \n",
    "    # 문장 품사 변수 초기화\n",
    "    sentences_pos = []\n",
    "    \n",
    "    # 인풋이 리스트면\n",
    "    if isinstance(sentences,list):\n",
    "    # 모든 문장 반복\n",
    "        for sentence in sentences:\n",
    "            # [\\\"':;~()] 특수기호 제거\n",
    "            sentence = re.sub(\"[ㄱ-ㅎㅏ-ㅣ-=+,#/\\?:^$.@*\\\"※~&%ㆍ!』\\\\‘|\\(\\)\\[\\]\\<\\>`\\'…》]\", \" \", sentence)\n",
    "            \n",
    "            \n",
    "            # 배열인 형태소분석의 출력을 띄어쓰기로 구분하여 붙임\n",
    "            sentence = \" \".join(tagger.morphs(sentence))\n",
    "            sentences_pos.append(sentence)\n",
    "            \n",
    "    # str이면        \n",
    "    elif isinstance(sentences, str):\n",
    "        sentences=re.sub(\"[ㄱ-ㅎㅏ-ㅣ-=+,#/\\?:^$.@*\\\"※~&%ㆍ!』\\\\‘|\\(\\)\\[\\]\\<\\>`\\'…》]\", \" \", sentences)\n",
    "        sentences_pos= \" \".join(tagger.morphs(sentences))\n",
    "        \n",
    "    return sentences_pos"
   ]
  },
  {
   "cell_type": "code",
   "execution_count": 5,
   "metadata": {},
   "outputs": [],
   "source": [
    "def convert_text_to_index_for_classification(sentences, vocabulary): \n",
    "    sentences_index = []\n",
    "    if isinstance(sentences,list):\n",
    "        # 모든 문장에 대해서 반복\n",
    "        for sentence in sentences:\n",
    "            sentence_index = []\n",
    "\n",
    "            # 문장의 단어들을 띄어쓰기로 분리\n",
    "            for word in sentence.split():\n",
    "                if vocabulary.get(word) is not None:\n",
    "                    # 사전에 있는 단어면 해당 인덱스를 추가\n",
    "                    sentence_index.extend([vocabulary[word]])\n",
    "                else:\n",
    "                    # 사전에 없는 단어면 OOV 인덱스를 추가\n",
    "                    sentence_index.extend([vocabulary[OOV]])\n",
    "\n",
    "            if len(sentence_index) > max_sequences:\n",
    "                sentence_index = sentence_index[:max_sequences]\n",
    "\n",
    "            # 최대 길이에 없는 공간은 패딩 인덱스로 채움\n",
    "            sentence_index += (max_sequences - len(sentence_index)) * [vocabulary[PAD]]\n",
    "\n",
    "            # 문장의 인덱스 배열을 추가\n",
    "            sentences_index.append(sentence_index)\n",
    "    elif isinstance(sentences, str):\n",
    "        sentence_index = []\n",
    "        for word in sentences.split():\n",
    "            if vocabulary.get(word) is not None:\n",
    "                # 사전에 있는 단어면 해당 인덱스를 추가\n",
    "                sentence_index.extend([vocabulary[word]])\n",
    "            else:\n",
    "                # 사전에 없는 단어면 OOV 인덱스를 추가\n",
    "                sentence_index.extend([vocabulary[OOV]])\n",
    "\n",
    "        if len(sentence_index) > max_sequences:\n",
    "            sentence_index = sentence_index[:max_sequences]\n",
    "\n",
    "        # 최대 길이에 없는 공간은 패딩 인덱스로 채움\n",
    "        sentence_index += (max_sequences - len(sentence_index)) * [vocabulary[PAD]]\n",
    "\n",
    "        sentences_index.append(sentence_index)\n",
    "    return sentences_index"
   ]
  },
  {
   "cell_type": "code",
   "execution_count": 18,
   "metadata": {},
   "outputs": [
    {
     "data": {
      "text/plain": [
       "4"
      ]
     },
     "execution_count": 18,
     "metadata": {},
     "output_type": "execute_result"
    }
   ],
   "source": []
  },
  {
   "cell_type": "code",
   "execution_count": 19,
   "metadata": {},
   "outputs": [
    {
     "name": "stdout",
     "output_type": "stream",
     "text": [
      "                      Sentence Emotion\n",
      "0  서해 수자원도 한류라서 그동안 불법조업 방치했나?      분노\n",
      "1                     니가 인간이가.      분노\n",
      "2    강아지를 때리고 유기하는것만 학대는 아닙니다!      분노\n",
      "3        하여간 우리나라 교육엔 미래가 없어!!      분노\n",
      "4     채널에이 군부 개인거 인증하냐 동아일보야!!      분노\n"
     ]
    }
   ],
   "source": [
    "df_main = pd.read_csv('sentences.csv',encoding='utf-8')\n",
    "print(df_main.head())\n",
    "a=df_main['Emotion'].unique()\n",
    "category =list(a)\n",
    "CATEGORY = len(category)\n",
    "\n",
    "# 분노 0,슬픔 1, 중립 2, 행복 3,\n",
    "# 카테고리 인덱스\n",
    "\n",
    "category_to_index = {word: index for index, word in enumerate(category)}\n",
    "\n",
    "index_to_category = {index: word for index, word in enumerate(category)}\n"
   ]
  },
  {
   "cell_type": "code",
   "execution_count": 20,
   "metadata": {},
   "outputs": [
    {
     "name": "stdout",
     "output_type": "stream",
     "text": [
      "57280\n"
     ]
    }
   ],
   "source": [
    "words = []\n",
    "ori_sentence =[]\n",
    "# 데이터 프레임 list화\n",
    "for i in range(len(df_main)):\n",
    "    tmp =[]\n",
    "    tmp.append(str(i+1))\n",
    "    tmp.append(df_main.iloc[i].Sentence)\n",
    "    tmp.append(df_main.iloc[i].Emotion)\n",
    "    ori_sentence.append(tmp)\n",
    "    \n",
    "# 문장 형태소 분석 및 전처리\n",
    "sente=[]\n",
    "for i in ori_sentence:\n",
    "    sente.append(i[1])\n",
    "\n",
    "senten = pos_tag(sente)\n",
    "\n",
    "# 단어들의 배열 생성\n",
    "for sentence in senten:\n",
    "    for word in sentence.split():\n",
    "        words.append(word)\n",
    "\n",
    "# 길이가 0인 단어는 삭제\n",
    "words = [word for word in words if len(word) > 0]\n",
    "\n",
    "# 중복된 단어 삭제\n",
    "words = list(set(words))\n",
    "\n",
    "# 제일 앞에 태그 단어 삽입\n",
    "words[:0] = [PAD, OOV]\n",
    "\n",
    "VOCAB_SIZE = len(words)\n",
    "print(VOCAB_SIZE)"
   ]
  },
  {
   "cell_type": "code",
   "execution_count": 21,
   "metadata": {},
   "outputs": [
    {
     "name": "stdout",
     "output_type": "stream",
     "text": [
      "리뷰의 최대 길이 : 299\n",
      "리뷰의 평균 길이 : 26.664841617003788\n"
     ]
    }
   ],
   "source": [
    "max_length = max(len(l) for l in senten)\n",
    "avg_length = sum(map(len, senten))/len(senten)\n",
    "print('리뷰의 최대 길이 : {}'.format(max_length))\n",
    "print('리뷰의 평균 길이 : {}'.format(avg_length))\n",
    "max_sequences= int(avg_length) + 15"
   ]
  },
  {
   "cell_type": "code",
   "execution_count": 22,
   "metadata": {},
   "outputs": [],
   "source": [
    "# 단어와 인덱스의 딕셔너리 생성\n",
    "word_to_index = {word: index for index, word in enumerate(words)}\n",
    "index_to_word = {index: word for index, word in enumerate(words)}"
   ]
  },
  {
   "cell_type": "markdown",
   "metadata": {},
   "source": [
    "# model train"
   ]
  },
  {
   "cell_type": "code",
   "execution_count": 26,
   "metadata": {},
   "outputs": [
    {
     "name": "stdout",
     "output_type": "stream",
     "text": [
      "68126\n"
     ]
    }
   ],
   "source": [
    "# 모델인풋\n",
    "sentence_index_for_cl = []\n",
    "sentence_index_for_cl = convert_text_to_index_for_classification(senten, word_to_index) #질문 문장에 정수인코딩,패딩\n",
    "print(len(sentence_index_for_cl))"
   ]
  },
  {
   "cell_type": "code",
   "execution_count": 24,
   "metadata": {},
   "outputs": [
    {
     "name": "stdout",
     "output_type": "stream",
     "text": [
      "68126\n"
     ]
    },
    {
     "data": {
      "text/plain": [
       "[0, 0, 0]"
      ]
     },
     "execution_count": 24,
     "metadata": {},
     "output_type": "execute_result"
    }
   ],
   "source": [
    "# label 데이터 정수화\n",
    "label=[]\n",
    "for i,item in enumerate(ori_sentence):\n",
    "    label.append(category_to_index[item[2]])\n",
    "    \n",
    "print(len(label))\n",
    "label[:3]"
   ]
  },
  {
   "cell_type": "code",
   "execution_count": 27,
   "metadata": {},
   "outputs": [],
   "source": [
    "from tensorflow.keras.models import Sequential\n",
    "from tensorflow.keras.layers import Dense, LSTM, Embedding, Masking, Bidirectional\n",
    "\n",
    "#카테고리 분류모델\n",
    "cmodel = Sequential()\n",
    "cmodel.add(Embedding(VOCAB_SIZE, 100))\n",
    "cmodel.add(Masking(mask_value=0.0))\n",
    "cmodel.add(Bidirectional(LSTM(128)))\n",
    "cmodel.add(Dense(CATEGORY, activation='softmax'))"
   ]
  },
  {
   "cell_type": "code",
   "execution_count": 28,
   "metadata": {},
   "outputs": [
    {
     "name": "stdout",
     "output_type": "stream",
     "text": [
      "(68126, 41)\n",
      "(68126,)\n"
     ]
    }
   ],
   "source": [
    "# input shape\n",
    "\n",
    "print(np.asarray(sentence_index_for_cl).shape)\n",
    "print(np.asarray(label).shape)"
   ]
  },
  {
   "cell_type": "code",
   "execution_count": 54,
   "metadata": {},
   "outputs": [
    {
     "name": "stdout",
     "output_type": "stream",
     "text": [
      "Epoch 1/3\n",
      "959/959 [==============================] - 90s 94ms/step - loss: 0.0500 - acc: 0.9821 - val_loss: 1.8538 - val_acc: 0.6772\n",
      "Epoch 2/3\n",
      "959/959 [==============================] - 95s 99ms/step - loss: 0.0368 - acc: 0.9866 - val_loss: 1.7863 - val_acc: 0.7157\n",
      "Epoch 3/3\n",
      "959/959 [==============================] - 96s 100ms/step - loss: 0.0303 - acc: 0.9890 - val_loss: 1.9530 - val_acc: 0.7251\n"
     ]
    }
   ],
   "source": [
    "cmodel.compile(loss='sparse_categorical_crossentropy', optimizer='adam', metrics=['acc'])\n",
    "history_c = cmodel.fit(np.asarray(sentence_index_for_cl), np.asarray(label), validation_split=0.1, batch_size=64, epochs=3)"
   ]
  },
  {
   "cell_type": "code",
   "execution_count": 55,
   "metadata": {},
   "outputs": [],
   "source": [
    "# 모델 저장\n",
    "cmodel.save('main_lstm_cl.h5')"
   ]
  },
  {
   "cell_type": "code",
   "execution_count": 56,
   "metadata": {},
   "outputs": [],
   "source": [
    "# 모델 불러오기\n",
    "load_c_model = models.load_model('main_lstm_cl.h5')"
   ]
  },
  {
   "cell_type": "code",
   "execution_count": 57,
   "metadata": {},
   "outputs": [
    {
     "data": {
      "image/png": "[encoded data removed]",
      "text/plain": [
       "<Figure size 432x288 with 2 Axes>"
      ]
     },
     "metadata": {
      "needs_background": "light"
     },
     "output_type": "display_data"
    }
   ],
   "source": [
    "# 결과 시각화\n",
    "\n",
    "fig, loss_ax = plt.subplots()\n",
    "acc_ax = loss_ax.twinx()\n",
    "\n",
    "loss_ax.plot(history_c.history['loss'], 'y', label='train loss')\n",
    "loss_ax.plot(history_c.history['val_loss'], 'r', label='val loss')\n",
    "loss_ax.set_xlabel('epoch')\n",
    "loss_ax.set_ylabel('loss')\n",
    "loss_ax.legend(loc='upper left')\n",
    "\n",
    "acc_ax.plot(history_c.history['acc'], 'b', label='train acc')\n",
    "acc_ax.plot(history_c.history['val_acc'], 'g', label='val acc')\n",
    "acc_ax.set_ylabel('accuracy')\n",
    "acc_ax.legend(loc='lower right')\n",
    "\n",
    "plt.show()"
   ]
  },
  {
   "cell_type": "markdown",
   "metadata": {},
   "source": [
    "# predict"
   ]
  },
  {
   "cell_type": "code",
   "execution_count": 59,
   "metadata": {},
   "outputs": [],
   "source": [
    "def predict_emotion(text):\n",
    "    pre_text = pos_tag(text)\n",
    "    pre_x=convert_text_to_index_for_classification(pre_text, word_to_index)\n",
    "    result=np.argmax(load_c_model.predict(np.asarray(pre_x).reshape(1,max_sequences)))\n",
    "    return index_to_category[result]"
   ]
  },
  {
   "cell_type": "code",
   "execution_count": 61,
   "metadata": {
    "scrolled": false
   },
   "outputs": [
    {
     "name": "stdout",
     "output_type": "stream",
     "text": [
      "문장을 입력해주세요짜증나게 하네요\n",
      "분노\n"
     ]
    }
   ],
   "source": [
    "predict_text=input('문장을 입력해주세요')\n",
    "print(predict_emotion(predict_text))\n"
   ]
  },
  {
   "cell_type": "code",
   "execution_count": null,
   "metadata": {},
   "outputs": [],
   "source": []
  }
 ],
 "metadata": {
  "kernelspec": {
   "display_name": "Python 3",
   "language": "python",
   "name": "python3"
  },
  "language_info": {
   "codemirror_mode": {
    "name": "ipython",
    "version": 3
   },
   "file_extension": ".py",
   "mimetype": "text/x-python",
   "name": "python",
   "nbconvert_exporter": "python",
   "pygments_lexer": "ipython3",
   "version": "3.7.6"
  }
 },
 "nbformat": 4,
 "nbformat_minor": 4
}
