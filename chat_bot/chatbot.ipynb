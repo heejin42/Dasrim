{
 "cells": [
  {
   "cell_type": "code",
   "execution_count": null,
   "metadata": {},
   "outputs": [],
   "source": []
  },
  {
   "cell_type": "code",
   "execution_count": 17,
   "metadata": {},
   "outputs": [
    {
     "name": "stdout",
     "output_type": "stream",
     "text": [
      "안녕하세요 챗봇 엘리에요! 저와 함께 얘기를 나누어 봐요!\n",
      "혹시라도 중간에 멈추고 싶으시면 끝내기라고 입력해주세요!\n",
      "사용자의 이름을 입력해주세요.서예지\n",
      "\n",
      " - - - - - - \n",
      "\n",
      "나를 상징하는 것을 저렇게 표현하신 이유가 무엇인가요?\n",
      "\n",
      "녹아버린 초콜릿 처럼 흐물흐물한 느낌이라\n",
      "['녹다', '버리다', '초콜릿', '처럼', '흐물흐물', '한', '느낌', '이라']\n",
      "\n",
      " - - - - - - \n",
      "\n",
      "왜 그런 생각이 드셨는지 설명해 주실 수 있나요?\n",
      "\n",
      "얼마전에 뜨거운 열에 녹아버린 초콜릿을 봤는데 형체를 알아볼 수 없는  처참한 모습을 보고 슬펐는데 그것이 제 모습과 비슷하게 느껴지네요\n",
      "['얼마', '전', '에', '뜨겁다', '열', '에', '녹다', '버리다', '초콜릿', '을', '보다', '형체', '를', '알아보다', '수', '없다', '처참하다', '모습', '을', '보고', '슬프다', '그것', '이', '제', '모습', '과', '비슷하다', '느껴지다']\n",
      "\n",
      " - - - - - - \n",
      "\n",
      "마음아프시겠어요 ..😢 슬픔은 나누면 나눠진다고 했어요..!\n",
      "최근에 서예지님이 본인을 그렇게 느낄만한 일들이 있었나요?\n",
      "\n",
      "최근 공부를 열심히 해도 성적이 안나요\n",
      "['최근', '공부', '를', '열심히', '해도', '성적', '이', '안나', '요']\n",
      "\n",
      " - - - - - - \n",
      "\n",
      "그런 상황에서 스쳐지나간 생각이 있으신가요?\n",
      "\n",
      "끝내기\n",
      "['끝내기']\n",
      "종료합니다\n"
     ]
    },
    {
     "data": {
      "text/plain": [
       "dict_items([('bot_q', ['나를 상징하는 것을 저렇게 표현하신 이유가 무엇인가요?\\n', '왜 그런 생각이 드셨는지 설명해 주실 수 있나요?\\n', '최근에 서예지님이 본인을 그렇게 느낄만한 일들이 있었나요?\\n', '그런 상황에서 스쳐지나간 생각이 있으신가요?\\n']), ('user_a', ['녹아버린 초콜릿 처럼 흐물흐물한 느낌이라', '얼마전에 뜨거운 열에 녹아버린 초콜릿을 봤는데 형체를 알아볼 수 없는  처참한 모습을 보고 슬펐는데 그것이 제 모습과 비슷하게 느껴지네요', '최근 공부를 열심히 해도 성적이 안나요', '끝내기'])])"
      ]
     },
     "execution_count": 17,
     "metadata": {},
     "output_type": "execute_result"
    }
   ],
   "source": [
    "import time\n",
    "from konlpy.tag import Okt\n",
    "okt= Okt()\n",
    "talk= True\n",
    "index=0\n",
    "data = {'bot_q':[],'user_a':[]}\n",
    "bot_a = ''\n",
    "bot_s = ''\n",
    "\n",
    "# 초반 멘트\n",
    "print('안녕하세요 챗봇 엘리에요! 저와 함께 얘기를 나누어 봐요!')\n",
    "print('혹시라도 중간에 멈추고 싶으시면 끝내기라고 입력해주세요!')\n",
    "\n",
    "# 사용자 이름 입력\n",
    "user_name=input('사용자의 이름을 입력해주세요.')\n",
    "\n",
    "bot_a_list = {'고정':['나를 상징하는 것을 저렇게 표현하신 이유가 무엇인가요?\\n',\n",
    "                    '왜 그런 생각이 드셨는지 설명해 주실 수 있나요?\\n',\n",
    "                    f'최근에 {user_name}님이 본인을 그렇게 느낄만한 일들이 있었나요?\\n',\n",
    "                    '그런 상황에서 스쳐지나간 생각이 있으신가요?\\n',\n",
    "                    '주변 사람이 이런 생각을 가지고 있다면 뭐라고 말을 해주겠어요?\\n',\n",
    "                    '그렇지만 본인에 대해 지금까지 알아가는 시간이 부족했던거 같아요 어떻게 생각하시나요?\\n',\n",
    "                    '그래도 오늘 이렇게 이야기를 나누면서 기분이 좀 풀리렸나요?, 앞으로도 제가 도와드릴께요 함께해요!'],\n",
    "         '안되다':'많이 정신 없으셨나봐요 😥',\n",
    "         '슬프다':'마음아프시겠어요 ..😢 슬픔은 나누면 나눠진다고 했어요..!'}\n",
    "\n",
    "\n",
    "# 끝내기 전까지 무한 반복\n",
    "while talk :\n",
    "    print('\\n - - - - - - \\n')\n",
    "    # 마지막 질문이 아닐 때 실행\n",
    "    if index+1<len(bot_a_list['고정']):\n",
    "        \n",
    "        # 전 질문에서 유저의 감성에 맞는 답변이 있다면 출력\n",
    "        if bot_s != '':\n",
    "            print(bot_s)\n",
    "            bot_s=''\n",
    "            \n",
    "        # 챗봇 질문\n",
    "        bot_a=bot_a_list['고정'][index]\n",
    "        print(bot_a)\n",
    "        \n",
    "        # 대화 받기\n",
    "        user_a = input()\n",
    "        \n",
    "        # 대화 내용 저장\n",
    "        data['bot_q'].append(bot_a)\n",
    "        data['user_a'].append(user_a)\n",
    "        \n",
    "        # 유저 대답 단어 일반화\n",
    "        pre_u_a = okt.morphs(user_a, stem=True)\n",
    "        print(pre_u_a)\n",
    "        \n",
    "        # 유저의 일반화 된 단어중 질문 사전에 있는지 검사\n",
    "        for sentiment in bot_a_list.keys():\n",
    "            if sentiment in pre_u_a :\n",
    "                bot_s=bot_a_list[sentiment]\n",
    "        \n",
    "        if index == 5 :\n",
    "            bot_s=f'맞아요 제 생각도 그래요. {user_name}님은 충분히 노력하셨어요.'\n",
    "            \n",
    "        \n",
    "        # 유저가 원하면 종료\n",
    "        if user_a == '끝내기':\n",
    "            talk=False\n",
    "            print('종료합니다')\n",
    "            \n",
    "    # 마지막 질문이 끝나면 종료\n",
    "    else :\n",
    "        print('그래도 오늘 이렇게 이야기를 나누면서 기분이 좀 풀리셨나요? \\n앞으로도 제가 도와드릴께요 함께해요!')\n",
    "        talk=False\n",
    "        \n",
    "    # 유저 질문 변수 초기화 질문 인덱스 값 증가 및 5초 지연\n",
    "    user_a=''\n",
    "    index+=1\n",
    "    time.sleep(3)\n",
    "data.items()"
   ]
  },
  {
   "cell_type": "code",
   "execution_count": 5,
   "metadata": {},
   "outputs": [
    {
     "name": "stdout",
     "output_type": "stream",
     "text": [
      "in\n",
      "in\n"
     ]
    }
   ],
   "source": [
    "ddd=[3,4]\n",
    "index=0\n",
    "for i in range(5):\n",
    "    if index in ddd:\n",
    "        print('in')\n",
    "    index+=1"
   ]
  },
  {
   "cell_type": "code",
   "execution_count": null,
   "metadata": {},
   "outputs": [],
   "source": []
  },
  {
   "cell_type": "code",
   "execution_count": null,
   "metadata": {},
   "outputs": [],
   "source": []
  }
 ],
 "metadata": {
  "kernelspec": {
   "display_name": "Python 3",
   "language": "python",
   "name": "python3"
  },
  "language_info": {
   "codemirror_mode": {
    "name": "ipython",
    "version": 3
   },
   "file_extension": ".py",
   "mimetype": "text/x-python",
   "name": "python",
   "nbconvert_exporter": "python",
   "pygments_lexer": "ipython3",
   "version": "3.7.6"
  }
 },
 "nbformat": 4,
 "nbformat_minor": 4
}
